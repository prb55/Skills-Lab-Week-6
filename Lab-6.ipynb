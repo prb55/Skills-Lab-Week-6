{
 "cells": [
  {
   "cell_type": "code",
   "execution_count": 3,
   "metadata": {},
   "outputs": [
    {
     "name": "stdin",
     "output_type": "stream",
     "text": [
      "Please inform us of your name: Matthew Garvey\n",
      "How old are you? 19\n",
      "What is your favorite food? Chicken\n"
     ]
    },
    {
     "name": "stdout",
     "output_type": "stream",
     "text": [
      "Matthew Garvey is 19 years old. Their favorite food is Chicken.\n"
     ]
    }
   ],
   "source": [
    "name = input(\"Please inform us of your name:\")\n",
    "age = int(input(\"How old are you?\"))\n",
    "food = input(\"What is your favorite food?\")\n",
    "print(name, \"is\", age, \"years old.\", \"Their favorite food is\", food + \".\")"
   ]
  },
  {
   "cell_type": "code",
   "execution_count": null,
   "metadata": {},
   "outputs": [],
   "source": []
  }
 ],
 "metadata": {
  "kernelspec": {
   "display_name": "Python 3",
   "language": "python",
   "name": "python3"
  },
  "language_info": {
   "codemirror_mode": {
    "name": "ipython",
    "version": 3
   },
   "file_extension": ".py",
   "mimetype": "text/x-python",
   "name": "python",
   "nbconvert_exporter": "python",
   "pygments_lexer": "ipython3",
   "version": "3.7.8"
  }
 },
 "nbformat": 4,
 "nbformat_minor": 4
}
